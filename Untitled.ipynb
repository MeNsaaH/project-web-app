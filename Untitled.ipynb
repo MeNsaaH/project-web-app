{
 "cells": [
  {
   "cell_type": "code",
   "execution_count": 55,
   "metadata": {},
   "outputs": [],
   "source": [
    "\"\"\" \n",
    "Celery Tasks \n",
    "\"\"\"\n",
    "\n",
    "import numpy as np\n",
    "import pandas as pd\n",
    "from celery import shared_task\n",
    "from django.conf import settings\n",
    "from django.utils import timezone\n",
    "from main.models import Record, PredictionHistory"
   ]
  },
  {
   "cell_type": "code",
   "execution_count": 56,
   "metadata": {},
   "outputs": [],
   "source": [
    "class States:\n",
    "    \"\"\" A Collection of all States \"\"\"\n",
    "    NORMAL = 'normal'\n",
    "    ALMOST_FLOODED = 'almost_flooded'\n",
    "    FLOODED = 'flooded'\n"
   ]
  },
  {
   "cell_type": "code",
   "execution_count": 57,
   "metadata": {},
   "outputs": [],
   "source": [
    "def get_state(value):\n",
    "    \"\"\" get the state for which value is in \"\"\"\n",
    "    norm_value = value/settings.DRAIN_HEIGHT\n",
    "    if norm_value < 0.75:\n",
    "        return States.NORMAL\n",
    "    elif 0.75 < norm_value < 0.98:\n",
    "        return States.ALMOST_FLOODED\n",
    "    else:\n",
    "        return States.FLOODED\n",
    "\n"
   ]
  },
  {
   "cell_type": "code",
   "execution_count": 58,
   "metadata": {},
   "outputs": [],
   "source": [
    "def min_max_scaler(X):\n",
    "    \"\"\" Return min-max scaler for the dataframe \"\"\"\n",
    "    X_std = (X - X.min(axis=0)) / (settings.DRAIN_HEIGHT - X.min(axis=0))\n",
    "    return X_std * (1 -0) + 0\n"
   ]
  },
  {
   "cell_type": "code",
   "execution_count": 59,
   "metadata": {},
   "outputs": [],
   "source": [
    "\n",
    "class TransitionMatrix:\n",
    "    \"\"\" Generates the Transition Matrix for the given Dataset \"\"\"\n",
    "    \n",
    "    def __init__(self, data):\n",
    "        \"\"\" Initialize the necessary Variables \"\"\"\n",
    "        \n",
    "        # Normalize Water Level data using MinMax Algorithm\n",
    "        data[\"WaterLevel\"] = min_max_scaler(data[\"WaterLevel\"].values)\n",
    "        criteria = [\n",
    "                data['WaterLevel'].le(0.75), \n",
    "                data['WaterLevel'].between(0.75, 0.98), \n",
    "                data['WaterLevel'].ge(0.98)]\n",
    "        state_values = [0, 1, 2]\n",
    "        data['state'] = np.select(criteria, state_values, 0)\n",
    "        data[\"next_state\"] =  data[\"state\"].shift()\n",
    "        self.data = data\n",
    "        self.states_dict = {\"normal\": 0, \"almost_flooded\":1, \"flooded\": 2}\n",
    "        self.transitions =  {\"normal\": {}, \"almost_flooded\":{}, \"flooded\": {}}\n",
    "\n",
    "\n",
    "    def generate(self):\n",
    "        \"\"\" Generate the Transition Matrix \"\"\"\n",
    "\n",
    "\n",
    "        # Check for transitions between states and store count\n",
    "        for i in self.states_dict.items():\n",
    "            for j in self.states_dict.items():\n",
    "                self.transitions[i[0]][j[0]] = self.data[\n",
    "                        (self.data[\"state\"] == i[1]) & (self.data[\"next_state\"] == j[1])].shape[0]\n",
    "\n",
    "        # Calculate the Probability of Transition based on data from transtions\n",
    "        df = pd.DataFrame(self.transitions)\n",
    "        for i in range(df.shape[0]):\n",
    "            df.iloc[i] = df.iloc[i]/df.iloc[i].sum()\n",
    "        return df.values\n",
    "    \n",
    "\n",
    "    @property\n",
    "    def values(self):\n",
    "        \"\"\" Return the Transtion Matrix \"\"\"\n",
    "        return self.generate()\n",
    "    \n",
    "    @property\n",
    "    def states(self):\n",
    "        return list(self.states_dict.keys())\n"
   ]
  },
  {
   "cell_type": "code",
   "execution_count": 60,
   "metadata": {},
   "outputs": [],
   "source": [
    "        \n",
    "\n",
    "class MarkovChainPredictor:\n",
    "    \"\"\" The Markov Chain Model Predictor \"\"\"\n",
    "\n",
    "    def __init__(self, transition_matrix, states):\n",
    "        \"\"\"\n",
    "        Initialize the MarkovChain instance.\n",
    " \n",
    "        Parameters\n",
    "        ----------\n",
    "        transition_matrix: 2-D array\n",
    "            A 2-D array representing the probabilities of change of \n",
    "            state in the Markov Chain.\n",
    " \n",
    "        states: 1-D array \n",
    "            An array representing the states of the Markov Chain. It\n",
    "            needs to be in the same order as transition_matrix.\n",
    "        \"\"\"\n",
    "        self.transition_matrix = np.atleast_2d(transition_matrix)\n",
    "        self.states = states\n",
    "        self.index_dict = {self.states[index]: index for index in \n",
    "                           range(len(self.states))}\n",
    "        self.state_dict = {index: self.states[index] for index in\n",
    "                           range(len(self.states))}\n",
    " \n",
    "    def next_state(self, current_state):\n",
    "        \"\"\"\n",
    "        Returns the state of the random variable at the next time \n",
    "        instance.\n",
    " \n",
    "        Parameters\n",
    "        ----------\n",
    "        current_state: str\n",
    "            The current state of the system.\n",
    "        \"\"\"\n",
    "        return np.random.choice(\n",
    "             self.states, \n",
    "             p=self.transition_matrix[self.index_dict[current_state], :]\n",
    "        )\n",
    " \n",
    "    def generate_states(self, current_state, no_predictions=10):\n",
    "        \"\"\"\n",
    "        Generates the next states of the system.\n",
    " \n",
    "        Parameters\n",
    "        ----------\n",
    "        current_state: str\n",
    "            The state of the current random variable.\n",
    " \n",
    "        no: int\n",
    "            The number of future states to generate.\n",
    "        \"\"\"\n",
    "        future_states = []\n",
    "        for _ in range(no_predictions):\n",
    "            next_state = self.next_state(current_state)\n",
    "            future_states.append(next_state)\n",
    "            current_state = next_state\n",
    "        return future_states\n"
   ]
  },
  {
   "cell_type": "code",
   "execution_count": 61,
   "metadata": {},
   "outputs": [],
   "source": [
    "\n",
    "current_state = get_state(Record.objects.last().water_level)\n"
   ]
  },
  {
   "cell_type": "code",
   "execution_count": 62,
   "metadata": {},
   "outputs": [],
   "source": [
    "# Generate a Numpy Array of Records\n",
    "water_level_entries = np.array(Record.objects.values_list('water_level', flat=True))\n"
   ]
  },
  {
   "cell_type": "code",
   "execution_count": 63,
   "metadata": {},
   "outputs": [],
   "source": [
    "\n",
    "data = pd.DataFrame({'WaterLevel': water_level_entries})\n"
   ]
  },
  {
   "cell_type": "code",
   "execution_count": 64,
   "metadata": {},
   "outputs": [
    {
     "data": {
      "text/plain": [
       "array([0.00864398, 0.00864398, 0.02665226, 0.02665226, 0.00234108,\n",
       "       0.00234108, 0.00234108, 0.00234108, 0.00234108, 0.02665226,\n",
       "       0.02665226, 0.26976409, 0.27138484, 0.27138484, 0.00234108,\n",
       "       0.02215019, 0.22474338, 0.02215019, 0.44984693, 0.00144066,\n",
       "       0.00864398, 0.00864398, 0.90005402, 0.00864398, 1.00180083,\n",
       "       0.0986854 , 0.45885107, 0.64793805, 0.06446966, 0.06446966,\n",
       "       0.04466054, 0.44984693, 0.        , 0.0356564 , 0.0356564 ,\n",
       "       0.09778498, 0.9810913 ])"
      ]
     },
     "execution_count": 64,
     "metadata": {},
     "output_type": "execute_result"
    }
   ],
   "source": [
    "min_max_scaler(data[\"WaterLevel\"].values)"
   ]
  },
  {
   "cell_type": "code",
   "execution_count": 65,
   "metadata": {},
   "outputs": [],
   "source": [
    "transition_matrix = TransitionMatrix(data)"
   ]
  },
  {
   "cell_type": "code",
   "execution_count": 69,
   "metadata": {},
   "outputs": [
    {
     "data": {
      "text/html": [
       "<div>\n",
       "<style scoped>\n",
       "    .dataframe tbody tr th:only-of-type {\n",
       "        vertical-align: middle;\n",
       "    }\n",
       "\n",
       "    .dataframe tbody tr th {\n",
       "        vertical-align: top;\n",
       "    }\n",
       "\n",
       "    .dataframe thead th {\n",
       "        text-align: right;\n",
       "    }\n",
       "</style>\n",
       "<table border=\"1\" class=\"dataframe\">\n",
       "  <thead>\n",
       "    <tr style=\"text-align: right;\">\n",
       "      <th></th>\n",
       "      <th>normal</th>\n",
       "      <th>almost_flooded</th>\n",
       "      <th>flooded</th>\n",
       "    </tr>\n",
       "  </thead>\n",
       "  <tbody>\n",
       "    <tr>\n",
       "      <th>normal</th>\n",
       "      <td>31</td>\n",
       "      <td>1</td>\n",
       "      <td>2</td>\n",
       "    </tr>\n",
       "    <tr>\n",
       "      <th>almost_flooded</th>\n",
       "      <td>1</td>\n",
       "      <td>0</td>\n",
       "      <td>0</td>\n",
       "    </tr>\n",
       "    <tr>\n",
       "      <th>flooded</th>\n",
       "      <td>1</td>\n",
       "      <td>0</td>\n",
       "      <td>0</td>\n",
       "    </tr>\n",
       "  </tbody>\n",
       "</table>\n",
       "</div>"
      ],
      "text/plain": [
       "                normal  almost_flooded  flooded\n",
       "normal              31               1        2\n",
       "almost_flooded       1               0        0\n",
       "flooded              1               0        0"
      ]
     },
     "execution_count": 69,
     "metadata": {},
     "output_type": "execute_result"
    }
   ],
   "source": [
    "pd.DataFrame(transition_matrix.transitions)"
   ]
  },
  {
   "cell_type": "code",
   "execution_count": 70,
   "metadata": {},
   "outputs": [],
   "source": [
    "\n",
    "predictor = MarkovChainPredictor(transition_matrix.values, transition_matrix.states)\n"
   ]
  },
  {
   "cell_type": "code",
   "execution_count": 71,
   "metadata": {},
   "outputs": [],
   "source": [
    "predictions = predictor.generate_states(current_state, no_predictions=24)\n"
   ]
  },
  {
   "cell_type": "code",
   "execution_count": 52,
   "metadata": {},
   "outputs": [
    {
     "data": {
      "text/plain": [
       "['normal',\n",
       " 'normal',\n",
       " 'normal',\n",
       " 'normal',\n",
       " 'normal',\n",
       " 'normal',\n",
       " 'normal',\n",
       " 'normal',\n",
       " 'normal',\n",
       " 'normal',\n",
       " 'normal',\n",
       " 'normal',\n",
       " 'normal',\n",
       " 'normal',\n",
       " 'normal',\n",
       " 'normal',\n",
       " 'normal',\n",
       " 'normal',\n",
       " 'normal',\n",
       " 'normal',\n",
       " 'normal',\n",
       " 'normal',\n",
       " 'flooded',\n",
       " 'normal']"
      ]
     },
     "execution_count": 52,
     "metadata": {},
     "output_type": "execute_result"
    }
   ],
   "source": [
    "get_prediction()"
   ]
  },
  {
   "cell_type": "code",
   "execution_count": null,
   "metadata": {},
   "outputs": [],
   "source": []
  }
 ],
 "metadata": {
  "kernelspec": {
   "display_name": "Django Shell-Plus",
   "language": "python",
   "name": "django_extensions"
  },
  "language_info": {
   "codemirror_mode": {
    "name": "ipython",
    "version": 3
   },
   "file_extension": ".py",
   "mimetype": "text/x-python",
   "name": "python",
   "nbconvert_exporter": "python",
   "pygments_lexer": "ipython3",
   "version": "3.7.3"
  }
 },
 "nbformat": 4,
 "nbformat_minor": 4
}
